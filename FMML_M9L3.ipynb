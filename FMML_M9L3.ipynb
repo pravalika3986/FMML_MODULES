{
  "cells": [
    {
      "cell_type": "markdown",
      "metadata": {
        "id": "view-in-github",
        "colab_type": "text"
      },
      "source": [
        "<a href=\"https://colab.research.google.com/github/pravalika3986/FMML_MODULES/blob/main/FMML_M9L3.ipynb\" target=\"_parent\"><img src=\"https://colab.research.google.com/assets/colab-badge.svg\" alt=\"Open In Colab\"/></a>"
      ]
    },
    {
      "cell_type": "markdown",
      "metadata": {
        "id": "kCpbL40ggQf1"
      },
      "source": [
        "# Module 9: Convolutional Neural Networks\n",
        "## **Lab 3**\n",
        "### Module coordinator: Aswin Jose and Anirvinya Gururajan"
      ]
    },
    {
      "cell_type": "markdown",
      "metadata": {
        "id": "0hAW8ptqVeyP"
      },
      "source": [
        "## 1. Understanding Convolutions"
      ]
    },
    {
      "cell_type": "markdown",
      "metadata": {
        "id": "q6wfvhccKxWx"
      },
      "source": [
        "<img src=\"https://miro.medium.com/max/464/0*e-SMFTzO8r7skkpc\" width=650px/>"
      ]
    },
    {
      "cell_type": "code",
      "execution_count": 1,
      "metadata": {
        "id": "yZD5S7IQgHbU"
      },
      "outputs": [],
      "source": [
        "import cv2\n",
        "import numpy as np\n",
        "import matplotlib.pyplot as plt"
      ]
    },
    {
      "cell_type": "code",
      "execution_count": 2,
      "metadata": {
        "id": "BDE4WBHalreb"
      },
      "outputs": [],
      "source": [
        "# Importing some pytorch packages\n",
        "import torch\n",
        "from torch.nn import Conv2d"
      ]
    },
    {
      "cell_type": "markdown",
      "metadata": {
        "id": "hbpRXyTpVv7u"
      },
      "source": [
        "Central to CNNs, a convolution operation is a linear element-wise multiplication operation between a small filter/kernel and same-sized patch from the image. We move this filter over the image like a sliding window from top left to bottom right. For each point on the image, a value is calculated based on the filter using a convolution operation. These filters can do simplest task like checking if there is a vertical line in the image or complicated task like detecting a human eye in the image.\n",
        "\n",
        "Let's look at the convolution formula:\n",
        "\n",
        "Convolution between image\n",
        "$f(x, y)$ and kernel $k(x, y)$ is\n",
        "$$f(x,y) * k(x,y) = \\sum \\limits _{i=0} ^{W-1} \\sum \\limits _{j=0} ^{H-1} f(i, j) k(x − i, y − j)$$\n",
        "\n",
        "where $W$ and $H$ are the the width and height of the image.\n",
        "\n",
        "The code demonstrates the convolution operation of a 2D matrix (image) with various filters"
      ]
    },
    {
      "cell_type": "markdown",
      "metadata": {
        "id": "amI6DTS0Ksvo"
      },
      "source": [
        "<img src=\"https://www.researchgate.net/profile/Chaim-Baskin/publication/318849314/figure/fig1/AS:614287726870532@1523469015098/Image-convolution-with-an-input-image-of-size-7-7-and-a-filter-kernel-of-size-3-3.png\" alt=\"Convolution\" width=650px height=280px/>"
      ]
    },
    {
      "cell_type": "code",
      "execution_count": 3,
      "metadata": {
        "colab": {
          "base_uri": "https://localhost:8080/",
          "height": 853
        },
        "id": "IalqupPPkDil",
        "outputId": "09e59cfc-275e-48ea-c785-002ea745faa6"
      },
      "outputs": [
        {
          "output_type": "display_data",
          "data": {
            "text/plain": [
              "<Figure size 640x480 with 1 Axes>"
            ],
            "image/png": "[encoded data removed]"
          },
          "metadata": {}
        },
        {
          "output_type": "display_data",
          "data": {
            "text/plain": [
              "<Figure size 640x480 with 1 Axes>"
            ],
            "image/png": "[encoded data removed]"
          },
          "metadata": {}
        }
      ],
      "source": [
        "# 2D 3x3 binary image with vertical edge\n",
        "image1 = np.array([[1,1,0], [1,1,0], [1,1,0]])\n",
        "\n",
        "# 2D 3x3 binary image with horizontal edge\n",
        "image2 = np.array([[0,0,0], [0,0,0], [1,1,1]])\n",
        "\n",
        "# On plotting the images\n",
        "plt.imshow(image1, cmap='gray', extent=[0, 3, 3, 0])\n",
        "plt.show()\n",
        "plt.imshow(image2, cmap='gray', extent=[0, 3, 3, 0])\n",
        "plt.show()"
      ]
    },
    {
      "cell_type": "code",
      "execution_count": 4,
      "metadata": {
        "colab": {
          "base_uri": "https://localhost:8080/"
        },
        "id": "g42INjCaketK",
        "outputId": "09c8751a-6022-4970-f7f2-ec7252b91bb4"
      },
      "outputs": [
        {
          "output_type": "stream",
          "name": "stdout",
          "text": [
            "Output from first image:  3\n",
            "Output from second image:  0\n"
          ]
        }
      ],
      "source": [
        "# Vertical Line filter\n",
        "filter = np.array([[1,0,-1],\n",
        "                   [1,0,-1],\n",
        "                   [1,0,-1]])\n",
        "\n",
        "# Applying filter to first image\n",
        "output = np.sum(np.multiply(image1, filter))\n",
        "print('Output from first image: ', output)\n",
        "\n",
        "# Applying filter to second image\n",
        "output = np.sum(np.multiply(image2, filter))\n",
        "print('Output from second image: ', output)"
      ]
    },
    {
      "cell_type": "code",
      "execution_count": 5,
      "metadata": {
        "colab": {
          "base_uri": "https://localhost:8080/"
        },
        "id": "Tba3ySYUk2df",
        "outputId": "b0aa723f-ab74-45c0-f97b-122a7ebe1032"
      },
      "outputs": [
        {
          "output_type": "stream",
          "name": "stdout",
          "text": [
            "Output from first image:  0\n",
            "Output from second image:  3\n"
          ]
        }
      ],
      "source": [
        "# Horizontal edge filter\n",
        "filter = np.array([[-1,-1,-1],\n",
        "                   [ 0, 0, 0],\n",
        "                   [ 1, 1, 1]])\n",
        "\n",
        "output = np.sum(np.multiply(image1, filter))\n",
        "print('Output from first image: ', output)\n",
        "\n",
        "output = np.sum(np.multiply(image2, filter))\n",
        "print('Output from second image: ', output)"
      ]
    },
    {
      "cell_type": "markdown",
      "metadata": {
        "id": "BmYcPhDgk_in"
      },
      "source": [
        "Non-zero output suggests that there is a vertical edge present in the first image and not present in the second image. Similarly, horizontal edge is detected in second."
      ]
    },
    {
      "cell_type": "markdown",
      "metadata": {
        "id": "UNdrDtAKqyj2"
      },
      "source": [
        "Let's define a function to use convolution layer from Pytorch and use our own kernel to detect edges in image"
      ]
    },
    {
      "cell_type": "code",
      "execution_count": 6,
      "metadata": {
        "id": "G5fRJziBk3YB"
      },
      "outputs": [],
      "source": [
        "def apply_conv(image, kernel, padding=0, stride=1):\n",
        "\n",
        "  #--------IMAGE PREPROCESSING-------\n",
        "  image = torch.from_numpy(image)\n",
        "  # Pytorch requires input to convolution in (N,C,H,W), where N = batch size and C=#channels in input\n",
        "  input = image.view((1,1,image.shape[0], image.shape[1]))\n",
        "\n",
        "  # --------------KERNEL-------------\n",
        "  kernel = torch.from_numpy(kernel.astype(np.float32))\n",
        "\n",
        "  # Pytorch requires kernel of shape (N,C,H,W), where N = batch size and C=#channels in input\n",
        "  kernel = kernel.view((1,1,kernel.shape[0], kernel.shape[1]))\n",
        "\n",
        "  # ---------CONVOLUTION LAYER from Pytorch--------\n",
        "  conv = Conv2d(in_channels=1, out_channels=1, kernel_size=kernel.shape, padding=padding, stride=stride)\n",
        "\n",
        "  # Set the kernel weights in the convolution layer\n",
        "  conv.weight = torch.nn.Parameter(kernel)\n",
        "\n",
        "  # ---------APPLY CONVOLUTION--------\n",
        "  output = conv(input.float())\n",
        "  output_img = output.data.numpy()  # Tensor to back in numpy\n",
        "  output_img = output_img.reshape((-1, output_img.shape[-1])) # Reshape to 2D image\n",
        "\n",
        "  return output_img"
      ]
    },
    {
      "cell_type": "code",
      "execution_count": 7,
      "metadata": {
        "colab": {
          "base_uri": "https://localhost:8080/"
        },
        "id": "1HPV6fFZloyc",
        "outputId": "09ce8d89-9416-4765-fd78-555e8c60d303"
      },
      "outputs": [
        {
          "output_type": "stream",
          "name": "stdout",
          "text": [
            "Error: Could not load image. Please check the file path.\n"
          ]
        }
      ],
      "source": [
        "\n",
        "# Our original lotus image\n",
        "image = cv2.imread('grid1.jpg', 0)\n",
        "\n",
        "# Check if image loading was successful\n",
        "if image is None:\n",
        "    print(\"Error: Could not load image. Please check the file path.\")\n",
        "else:\n",
        "    filter = np.array([[-1, -1, -1],\n",
        "                       [0, 0, 0],\n",
        "                       [1, 1, 1]])\n",
        "\n",
        "    out1 = apply_conv(image, filter, padding=0, stride=1)\n",
        "\n",
        "    filter = np.array([[1, 0, -1],\n",
        "                       [1, 0, -1],\n",
        "                       [1, 0, -1]])\n",
        "\n",
        "    out2 = apply_conv(image, filter, padding=0, stride=1)"
      ]
    },
    {
      "cell_type": "markdown",
      "metadata": {
        "id": "FpA0yEk1BgRb"
      },
      "source": [
        "## Pooling Layers\n",
        "\n",
        "Pooling layers are used to reduce the dimensions of the feature maps. Thus, it reduces the number of parameters to learn and the amount of computation performed in the network. The pooling layer summarises the features present in a region of the feature map generated by a convolution layer.\n",
        "\n",
        "1) Max Pooling:\n",
        "\n",
        "<img src='https://media.geeksforgeeks.org/wp-content/uploads/20190721025744/Screenshot-2019-07-21-at-2.57.13-AM.png' height=150px/>\n",
        "\n",
        "2) Average Pooling:\n",
        "\n",
        "<img src='https://media.geeksforgeeks.org/wp-content/uploads/20190721030705/Screenshot-2019-07-21-at-3.05.56-AM.png' height=150px/>"
      ]
    },
    {
      "cell_type": "markdown",
      "metadata": {
        "id": "eu3QIU7AEO_x"
      },
      "source": [
        "## Softmax layer/activation\n",
        "Recall that logistic regression produces a decimal between 0 and 1.0. For example, a logistic regression output of 0.8 from an email classifier suggests an 80% chance of an email being spam and a 20% chance of it being not spam. Clearly, the sum of the probabilities of an email being either spam or not spam is 1.0.\n",
        "\n",
        "Softmax extends this idea into a multi-class world. That is, Softmax assigns decimal probabilities to each class in a multi-class problem. Those decimal probabilities must add up to 1.0. This additional constraint helps training converge more quickly than it otherwise would.\n",
        "Softmax is implemented through a neural network layer just before the output layer. The Softmax layer must have the same number of nodes as the output layer.\n",
        "\n",
        "<img src='https://miro.medium.com/max/1400/1*ReYpdIZ3ZSAPb2W8cJpkBg.jpeg' height=170px />"
      ]
    },
    {
      "cell_type": "markdown",
      "metadata": {
        "id": "P6grxC0TKKSF"
      },
      "source": [
        "## Learning to train a CNN network"
      ]
    },
    {
      "cell_type": "code",
      "execution_count": 8,
      "metadata": {
        "id": "qlO-uZUHnn_-"
      },
      "outputs": [],
      "source": [
        "# Import packages\n",
        "import torch\n",
        "import torchvision\n",
        "import torchvision.transforms as transforms\n",
        "import torch.nn as nn\n",
        "import torch.nn.functional as F\n",
        "import torch.optim as optim\n",
        "import matplotlib.pyplot as plt\n",
        "import numpy as np"
      ]
    },
    {
      "cell_type": "code",
      "execution_count": 9,
      "metadata": {
        "colab": {
          "base_uri": "https://localhost:8080/"
        },
        "id": "NnezCUbwGqzd",
        "outputId": "f328df8c-c7b7-4a7f-80ae-056e71089ae6"
      },
      "outputs": [
        {
          "output_type": "stream",
          "name": "stderr",
          "text": [
            "100%|██████████| 170M/170M [00:05<00:00, 33.9MB/s]\n"
          ]
        }
      ],
      "source": [
        "#  Images returned from torchvision dataset classes is in range [0,1]\n",
        "# We transform them to tensors and normalize them to range [-1,1] using 'Normalize' transform\n",
        "\n",
        "transform = transforms.Compose(\n",
        "    [transforms.ToTensor(),\n",
        "     transforms.Normalize((0.5, 0.5, 0.5), (0.5, 0.5, 0.5))])\n",
        "\n",
        "batch_size = 128\n",
        "\n",
        "trainset = torchvision.datasets.CIFAR10(root='./data', train=True,\n",
        "                                        download=True, transform=transform)\n",
        "trainloader = torch.utils.data.DataLoader(trainset, batch_size=batch_size,\n",
        "                                          shuffle=True, num_workers=2)\n",
        "\n",
        "testset = torchvision.datasets.CIFAR10(root='./data', train=False,\n",
        "                                       download=True, transform=transform)\n",
        "testloader = torch.utils.data.DataLoader(testset, batch_size=batch_size,\n",
        "                                         shuffle=False, num_workers=2)\n",
        "\n",
        "# Classes in CIFAR10\n",
        "classes = ('plane', 'car', 'bird', 'cat',\n",
        "           'deer', 'dog', 'frog', 'horse', 'ship', 'truck')"
      ]
    },
    {
      "cell_type": "code",
      "execution_count": 10,
      "metadata": {
        "colab": {
          "base_uri": "https://localhost:8080/"
        },
        "id": "e2M57DhHGupn",
        "outputId": "4b7083e6-7477-415b-f7b5-dd8a91938523"
      },
      "outputs": [
        {
          "output_type": "stream",
          "name": "stdout",
          "text": [
            "Training data shape :  (50000, 32, 32, 3) 50000\n",
            "Testing data shape :  (10000, 32, 32, 3) 10000\n",
            "Total number of outputs :  10\n",
            "Output classes :  ('plane', 'car', 'bird', 'cat', 'deer', 'dog', 'frog', 'horse', 'ship', 'truck')\n"
          ]
        }
      ],
      "source": [
        "print('Training data shape : ', trainset.data.shape, len(trainset.targets))\n",
        "print('Testing data shape : ', testset.data.shape, len(testset.targets))\n",
        "\n",
        "# Find the unique numbers from the train labels\n",
        "nClasses = len(classes)\n",
        "print('Total number of outputs : ', nClasses)\n",
        "print('Output classes : ', classes)"
      ]
    },
    {
      "cell_type": "code",
      "execution_count": 11,
      "metadata": {
        "id": "_haw697lHCZs"
      },
      "outputs": [],
      "source": [
        "def train(num_epochs, model, train_loader, loss_func, optimizer):\n",
        "\n",
        "  # Training mode\n",
        "  model.train()\n",
        "\n",
        "  train_losses = []\n",
        "  train_acc = []\n",
        "\n",
        "  # Train the model\n",
        "  for epoch in range(num_epochs):\n",
        "    running_loss = 0\n",
        "    running_acc = 0\n",
        "    for i, (images, labels) in enumerate(train_loader):\n",
        "\n",
        "      # clear gradients for this training step\n",
        "      optimizer.zero_grad()\n",
        "\n",
        "      # Forward pass\n",
        "      output = model(images)\n",
        "\n",
        "      # Calculate loss\n",
        "      loss = loss_func(output, labels)\n",
        "\n",
        "      # Backpropagation, compute gradients\n",
        "      loss.backward()\n",
        "\n",
        "      # Apply gradients\n",
        "      optimizer.step()\n",
        "\n",
        "      # Running loss\n",
        "      running_loss += loss.item()\n",
        "\n",
        "      # indices of max probabilities\n",
        "      _, preds = torch.max(output, dim=1)\n",
        "\n",
        "      # Calculate number of correct predictions\n",
        "      correct = (preds.float() == labels).sum()\n",
        "      running_acc += correct\n",
        "\n",
        "      # Average loss and acc values\n",
        "      epoch_loss = running_loss / len(train_loader.dataset)\n",
        "      epoch_acc = running_acc / len(train_loader.dataset)\n",
        "\n",
        "    train_losses.append(epoch_loss)\n",
        "    train_acc.append(epoch_acc)\n",
        "    print ('Epoch {}/{}, Loss: {:.4f}, Accuracy: {:.4f}'.format(epoch + 1, num_epochs, epoch_loss, epoch_acc*100))\n",
        "\n",
        "  return train_losses, train_acc"
      ]
    },
    {
      "cell_type": "code",
      "execution_count": 12,
      "metadata": {
        "id": "x1Wi6vW7IHcR"
      },
      "outputs": [],
      "source": [
        "def test_model(model, testloader):\n",
        "  correct = 0\n",
        "  total = 0\n",
        "  # Deactivate autograd engine (don't compute grads since we're not training)\n",
        "  with torch.no_grad():\n",
        "    for data in testloader:\n",
        "        images, labels = data\n",
        "        # Calculate outputs by running images through the network\n",
        "        outputs = model(images)\n",
        "        # The class with the highest value is what we choose as prediction\n",
        "        _, predicted = torch.max(outputs.data, 1)\n",
        "        total += labels.size(0)\n",
        "        correct += (predicted == labels).sum().item()\n",
        "\n",
        "  print('Accuracy of the network: %d %%' % (\n",
        "      100 * correct / total))"
      ]
    },
    {
      "cell_type": "code",
      "execution_count": 13,
      "metadata": {
        "id": "RgxbRadcHIms"
      },
      "outputs": [],
      "source": [
        "# CNN with 2 CONV layers and 3 FC layers\n",
        "class Net(nn.Module):\n",
        "    def __init__(self):\n",
        "        super().__init__()\n",
        "        self.conv1 = nn.Conv2d(3, 16, 3)\n",
        "        self.pool = nn.MaxPool2d(2, 2)\n",
        "        self.conv2 = nn.Conv2d(16, 32, 5)\n",
        "        self.fc1 = nn.Linear(32 * 5 * 5, 512)\n",
        "        self.fc2 = nn.Linear(512, 128)\n",
        "        # output layer 10 classes\n",
        "        self.fc3 = nn.Linear(128, 10)\n",
        "\n",
        "    def forward(self, x):\n",
        "        x = self.pool(F.relu(self.conv1(x)))\n",
        "        x = self.pool(F.relu(self.conv2(x)))\n",
        "        # flatten all dimensions except batch\n",
        "        x = torch.flatten(x, 1)\n",
        "        x = F.relu(self.fc1(x))\n",
        "        x = F.relu(self.fc2(x))\n",
        "        x = self.fc3(x)\n",
        "        return x"
      ]
    },
    {
      "cell_type": "code",
      "execution_count": 14,
      "metadata": {
        "colab": {
          "base_uri": "https://localhost:8080/"
        },
        "id": "02meBxVOHLNL",
        "outputId": "08e1bdff-1dcc-443f-945b-13598037df05"
      },
      "outputs": [
        {
          "output_type": "stream",
          "name": "stdout",
          "text": [
            "Net(\n",
            "  (conv1): Conv2d(3, 16, kernel_size=(3, 3), stride=(1, 1))\n",
            "  (pool): MaxPool2d(kernel_size=2, stride=2, padding=0, dilation=1, ceil_mode=False)\n",
            "  (conv2): Conv2d(16, 32, kernel_size=(5, 5), stride=(1, 1))\n",
            "  (fc1): Linear(in_features=800, out_features=512, bias=True)\n",
            "  (fc2): Linear(in_features=512, out_features=128, bias=True)\n",
            "  (fc3): Linear(in_features=128, out_features=10, bias=True)\n",
            ")\n"
          ]
        }
      ],
      "source": [
        "model = Net()\n",
        "print(model)"
      ]
    },
    {
      "cell_type": "code",
      "execution_count": 15,
      "metadata": {
        "id": "lfKHypeYHNHO"
      },
      "outputs": [],
      "source": [
        "# Cross Entropy loss for multi-class classification\n",
        "criterion = nn.CrossEntropyLoss()"
      ]
    },
    {
      "cell_type": "code",
      "execution_count": 16,
      "metadata": {
        "id": "MuDnJL28HPKP"
      },
      "outputs": [],
      "source": [
        "#(), lr:=0.05, momentum=0.9\n",
        "optimizer = optim.SGD(model.parameters(), lr=0.05, momentum=0.9)"
      ]
    },
    {
      "cell_type": "code",
      "execution_count": 17,
      "metadata": {
        "colab": {
          "base_uri": "https://localhost:8080/"
        },
        "id": "-LCeRZ_qPmfU",
        "outputId": "2806cc20-f7ef-472a-9e68-1397b2df4b2a"
      },
      "outputs": [
        {
          "output_type": "stream",
          "name": "stdout",
          "text": [
            "Epoch 1/5, Loss: 0.0129, Accuracy: 39.3620\n",
            "Epoch 2/5, Loss: 0.0092, Accuracy: 57.9800\n",
            "Epoch 3/5, Loss: 0.0077, Accuracy: 65.3980\n",
            "Epoch 4/5, Loss: 0.0066, Accuracy: 70.2960\n",
            "Epoch 5/5, Loss: 0.0057, Accuracy: 74.3560\n"
          ]
        }
      ],
      "source": [
        "num_epochs = 5\n",
        "train_losses, train_acc = train(num_epochs, model, trainloader, criterion, optimizer) # Changed 'critertion' to 'criterion'"
      ]
    },
    {
      "cell_type": "code",
      "execution_count": 18,
      "metadata": {
        "collapsed": true,
        "id": "a_Q1Fs4voiio",
        "colab": {
          "base_uri": "https://localhost:8080/",
          "height": 375
        },
        "outputId": "d56d04cb-25fb-41aa-a189-24918ec32384"
      },
      "outputs": [
        {
          "output_type": "stream",
          "name": "stdout",
          "text": [
            "Epoch 1/5 | Loss: 1.6924 | Accuracy: 38.29%\n",
            "Epoch 2/5 | Loss: 1.5030 | Accuracy: 47.19%\n",
            "Epoch 3/5 | Loss: 1.4834 | Accuracy: 48.90%\n",
            "Epoch 4/5 | Loss: 1.4967 | Accuracy: 49.21%\n",
            "Epoch 5/5 | Loss: 1.5288 | Accuracy: 48.34%\n",
            "Test Accuracy of the network: 38.34%\n"
          ]
        },
        {
          "output_type": "display_data",
          "data": {
            "text/plain": [
              "<Figure size 1000x400 with 2 Axes>"
            ],
            "image/png": "[encoded data removed]"
          },
          "metadata": {}
        }
      ],
      "source": [
        "# Import necessary libraries\n",
        "import torch\n",
        "import torchvision\n",
        "import torchvision.transforms as transforms\n",
        "import torch.nn as nn\n",
        "import torch.nn.functional as F\n",
        "import torch.optim as optim\n",
        "import matplotlib.pyplot as plt\n",
        "import numpy as np\n",
        "\n",
        "# Define the CNN Model\n",
        "class Net(nn.Module):\n",
        "    def __init__(self):\n",
        "        super().__init__()\n",
        "        self.conv1 = nn.Conv2d(3, 16, 3)          # Input: 3x32x32 -> Output: 16x30x30\n",
        "        self.pool = nn.MaxPool2d(2, 2)            # Output: 16x15x15\n",
        "        self.conv2 = nn.Conv2d(16, 32, 5)         # Output: 32x11x11\n",
        "        self.fc1 = nn.Linear(32 * 5 * 5, 512)\n",
        "        self.fc2 = nn.Linear(512, 128)\n",
        "        self.fc3 = nn.Linear(128, 10)             # Output for 10 classes\n",
        "\n",
        "    def forward(self, x):\n",
        "        x = self.pool(F.relu(self.conv1(x)))      # After conv1 & pool\n",
        "        x = self.pool(F.relu(self.conv2(x)))      # After conv2 & pool\n",
        "        x = torch.flatten(x, 1)                   # Flatten the output\n",
        "        x = F.relu(self.fc1(x))\n",
        "        x = F.relu(self.fc2(x))\n",
        "        x = self.fc3(x)\n",
        "        return x\n",
        "\n",
        "# Training function\n",
        "def train(num_epochs, model, train_loader, loss_func, optimizer):\n",
        "    model.train()\n",
        "    train_losses = []\n",
        "    train_acc = []\n",
        "\n",
        "    for epoch in range(num_epochs):\n",
        "        running_loss = 0.0\n",
        "        running_correct = 0\n",
        "        total = 0\n",
        "\n",
        "        for i, (images, labels) in enumerate(train_loader):\n",
        "            optimizer.zero_grad()\n",
        "            output = model(images)\n",
        "            loss = loss_func(output, labels)\n",
        "            loss.backward()\n",
        "            optimizer.step()\n",
        "\n",
        "            running_loss += loss.item() * images.size(0)\n",
        "            _, preds = torch.max(output, 1)\n",
        "            running_correct += (preds == labels).sum().item()\n",
        "            total += labels.size(0)\n",
        "\n",
        "        epoch_loss = running_loss / total\n",
        "        epoch_acc = running_correct / total\n",
        "\n",
        "        train_losses.append(epoch_loss)\n",
        "        train_acc.append(epoch_acc)\n",
        "\n",
        "        print('Epoch {}/{} | Loss: {:.4f} | Accuracy: {:.2f}%'.format(\n",
        "            epoch + 1, num_epochs, epoch_loss, epoch_acc * 100))\n",
        "\n",
        "    return train_losses, train_acc\n",
        "\n",
        "# Test function\n",
        "def test_model(model, test_loader):\n",
        "    model.eval()\n",
        "    correct = 0\n",
        "    total = 0\n",
        "    with torch.no_grad():\n",
        "        for images, labels in test_loader:\n",
        "            outputs = model(images)\n",
        "            _, predicted = torch.max(outputs.data, 1)\n",
        "            total += labels.size(0)\n",
        "            correct += (predicted == labels).sum().item()\n",
        "\n",
        "    print('Test Accuracy of the network: {:.2f}%'.format(100 * correct / total))\n",
        "\n",
        "\n",
        "# -----------------------------------------------\n",
        "# CIFAR-10 Dataset Loading\n",
        "# -----------------------------------------------\n",
        "transform = transforms.Compose(\n",
        "    [transforms.ToTensor(),\n",
        "     transforms.Normalize((0.5, 0.5, 0.5), (0.5, 0.5, 0.5))])\n",
        "\n",
        "batch_size = 32\n",
        "\n",
        "train_set = torchvision.datasets.CIFAR10(root='./data', train=True,\n",
        "                                         download=True, transform=transform)\n",
        "train_loader = torch.utils.data.DataLoader(train_set, batch_size=batch_size,\n",
        "                                           shuffle=True, num_workers=2)\n",
        "\n",
        "test_set = torchvision.datasets.CIFAR10(root='./data', train=False,\n",
        "                                        download=True, transform=transform)\n",
        "test_loader = torch.utils.data.DataLoader(test_set, batch_size=batch_size,\n",
        "                                          shuffle=False, num_workers=2)\n",
        "\n",
        "# -----------------------------------------------\n",
        "# Model, Loss, Optimizer\n",
        "# -----------------------------------------------\n",
        "model = Net()\n",
        "criterion = nn.CrossEntropyLoss()\n",
        "optimizer = optim.SGD(model.parameters(), lr=0.05, momentum=0.9)\n",
        "\n",
        "# -----------------------------------------------\n",
        "# Train the model\n",
        "# -----------------------------------------------\n",
        "num_epochs = 5\n",
        "train_losses, train_acc = train(num_epochs, model, train_loader, criterion, optimizer)\n",
        "\n",
        "# -----------------------------------------------\n",
        "# Test the model\n",
        "# -----------------------------------------------\n",
        "test_model(model, test_loader)\n",
        "\n",
        "# -----------------------------------------------\n",
        "# Plotting training loss and accuracy\n",
        "# -----------------------------------------------\n",
        "plt.figure(figsize=(10, 4))\n",
        "\n",
        "# Plot training loss\n",
        "plt.subplot(1, 2, 1)\n",
        "plt.plot(np.arange(1, len(train_losses) + 1), train_losses, marker='o')\n",
        "plt.xlabel('Epochs')\n",
        "plt.ylabel('Training Loss')\n",
        "plt.title('Loss vs Epochs')\n",
        "\n",
        "# Plot training accuracy\n",
        "plt.subplot(1, 2, 2)\n",
        "plt.plot(np.arange(1, len(train_acc) + 1), [acc * 100 for acc in train_acc], marker='o')\n",
        "plt.xlabel('Epochs')\n",
        "plt.ylabel('Training Accuracy (%)')\n",
        "plt.title('Accuracy vs Epochs')\n",
        "\n",
        "plt.tight_layout()\n",
        "plt.show()\n"
      ]
    },
    {
      "cell_type": "code",
      "execution_count": 19,
      "metadata": {
        "id": "PnxRZVrsojX3"
      },
      "outputs": [],
      "source": [
        "# Import necessary libraries\n",
        "import torch\n",
        "import torchvision\n",
        "import torchvision.transforms as transforms\n",
        "import torch.nn as nn\n",
        "import torch.nn.functional as F\n",
        "import torch.optim as optim\n",
        "import matplotlib.pyplot as plt\n",
        "import numpy as np\n",
        "\n",
        "# ... (Your existing code for Net class, train function, and test_model function) ...\n",
        "\n",
        "# Create an instance of the model\n",
        "model = Net()  # Define the model before using it\n",
        "\n",
        "# Cross Entropy loss for multi-class classification\n",
        "criterion = nn.CrossEntropyLoss()\n",
        "\n",
        "# SGD optimizer with momentum\n",
        "optimizer = optim.SGD(model.parameters(), lr=0.05, momentum=0.9)\n",
        "\n",
        "# ... (Rest of your training and testing code) ..."
      ]
    },
    {
      "cell_type": "code",
      "execution_count": 20,
      "metadata": {
        "colab": {
          "base_uri": "https://localhost:8080/",
          "height": 403
        },
        "id": "tM2wHKGuHToB",
        "outputId": "b0f6f924-64e5-4815-884e-8b7a6bb1317c"
      },
      "outputs": [
        {
          "output_type": "stream",
          "name": "stdout",
          "text": [
            "Epoch 1/5 | Loss: 1.6553 | Accuracy: 39.04%\n",
            "Epoch 2/5 | Loss: 1.2069 | Accuracy: 56.97%\n",
            "Epoch 3/5 | Loss: 1.0160 | Accuracy: 64.16%\n",
            "Epoch 4/5 | Loss: 0.8706 | Accuracy: 69.44%\n",
            "Epoch 5/5 | Loss: 0.7516 | Accuracy: 73.68%\n"
          ]
        },
        {
          "output_type": "display_data",
          "data": {
            "text/plain": [
              "<Figure size 1000x400 with 2 Axes>"
            ],
            "image/png": "[encoded data removed]"
          },
          "metadata": {}
        }
      ],
      "source": [
        "\n",
        "# ... previous code ...\n",
        "\n",
        "# Create an instance of the model\n",
        "model = Net()\n",
        "\n",
        "# Cross Entropy loss for multi-class classification\n",
        "criterion = nn.CrossEntropyLoss()\n",
        "\n",
        "# SGD optimizer with momentum\n",
        "optimizer = optim.SGD(model.parameters(), lr=0.05, momentum=0.9)\n",
        "\n",
        "# Number of training epochs\n",
        "num_epochs = 5  # iterations\n",
        "\n",
        "# Train the model and get the training losses and accuracy\n",
        "train_losses, train_acc = train(num_epochs, model, trainloader, criterion, optimizer) # Call the train function\n",
        "\n",
        "# Plotting code\n",
        "fig = plt.figure(figsize=(10, 4))\n",
        "ax = fig.add_subplot(1, 2, 1)\n",
        "ax.plot(np.arange(1, len(train_losses) + 1), train_losses)\n",
        "plt.xlabel('Training loss')\n",
        "plt.ylabel('Epochs')\n",
        "ax.set_title('Loss vs Epochs')\n",
        "ax = fig.add_subplot(1, 2, 2)\n",
        "ax.plot(np.arange(1, len(train_acc) + 1), train_acc)\n",
        "plt.xlabel('Training accuracy')\n",
        "plt.ylabel('Epochs')\n",
        "ax.set_title('Accuracy vs Epochs')\n",
        "plt.show()"
      ]
    },
    {
      "cell_type": "code",
      "execution_count": 21,
      "metadata": {
        "colab": {
          "base_uri": "https://localhost:8080/"
        },
        "id": "3sHK9hhmI-VY",
        "outputId": "e6c7f3de-456f-435d-aee3-0523e1bd3d38"
      },
      "outputs": [
        {
          "output_type": "stream",
          "name": "stdout",
          "text": [
            "Test Accuracy of the network: 65.21%\n",
            "Epoch 1/5 | Loss: 1.6439 | Accuracy: 39.68%\n",
            "Epoch 2/5 | Loss: 1.1876 | Accuracy: 57.97%\n",
            "Epoch 3/5 | Loss: 1.0008 | Accuracy: 64.76%\n",
            "Epoch 4/5 | Loss: 0.8530 | Accuracy: 70.11%\n",
            "Epoch 5/5 | Loss: 0.7378 | Accuracy: 74.02%\n",
            "Epoch 1/5 | Loss: 1.6576 | Accuracy: 39.54%\n",
            "Epoch 2/5 | Loss: 1.1868 | Accuracy: 57.77%\n",
            "Epoch 3/5 | Loss: 1.0128 | Accuracy: 64.59%\n",
            "Epoch 4/5 | Loss: 0.8726 | Accuracy: 69.34%\n",
            "Epoch 5/5 | Loss: 0.7514 | Accuracy: 73.70%\n",
            "Accuracy of the network: 65 %\n"
          ]
        }
      ],
      "source": [
        "\n",
        "# Accuracy on test data after training\n",
        "test_model(model, testloader)\n",
        "# Import packages\n",
        "import torch\n",
        "import torchvision\n",
        "import torchvision.transforms as transforms\n",
        "import torch.nn as nn\n",
        "import torch.nn.functional as F\n",
        "import torch.optim as optim\n",
        "import matplotlib.pyplot as plt\n",
        "import numpy as np\n",
        "\n",
        "# ... (rest of your code) ...\n",
        "\n",
        "# CNN with 2 CONV layers and 3 FC layers\n",
        "class Net(nn.Module):\n",
        "    def __init__(self):\n",
        "        super().__init__()\n",
        "        self.conv1 = nn.Conv2d(3, 16, 3)\n",
        "        self.pool = nn.MaxPool2d(2, 2)\n",
        "        self.conv2 = nn.Conv2d(16, 32, 5)\n",
        "        self.fc1 = nn.Linear(32 * 5 * 5, 512)\n",
        "        self.fc2 = nn.Linear(512, 128)\n",
        "        # output layer 10 classes\n",
        "        self.fc3 = nn.Linear(128, 10)\n",
        "\n",
        "    def forward(self, x):\n",
        "        x = self.pool(F.relu(self.conv1(x)))\n",
        "        x = self.pool(F.relu(self.conv2(x)))\n",
        "        # flatten all dimensions except batch\n",
        "        x = torch.flatten(x, 1)\n",
        "        x = F.relu(self.fc1(x))\n",
        "        x = F.relu(self.fc2(x))\n",
        "        x = self.fc3(x)\n",
        "        return x\n",
        "\n",
        "# Create an instance of the model\n",
        "model = Net()\n",
        "\n",
        "# Cross Entropy loss for multi-class classification\n",
        "criterion = nn.CrossEntropyLoss()\n",
        "\n",
        "# SGD optimizer with momentum\n",
        "optimizer = optim.SGD(model.parameters(), lr=0.05, momentum=0.9)\n",
        "\n",
        "# Number of training epochs\n",
        "num_epochs = 5  # iterations\n",
        "\n",
        "# Training loop\n",
        "train_losses, train_acc = train(num_epochs, model, trainloader, criterion, optimizer)\n",
        "\n",
        "\n",
        "def test_model(model, testloader):\n",
        "  correct = 0\n",
        "  total = 0\n",
        "  # Deactivate autograd engine (don't compute grads since we're not training)\n",
        "  with torch.no_grad():\n",
        "    for data in testloader:\n",
        "        images, labels = data\n",
        "        # Calculate outputs by running images through the network\n",
        "        outputs = model(images)\n",
        "        # The class with the highest value is what we choose as prediction\n",
        "        _, predicted = torch.max(outputs.data, 1)\n",
        "        total += labels.size(0)\n",
        "        correct += (predicted == labels).sum().item()\n",
        "\n",
        "  print('Accuracy of the network: %d %%' % (\n",
        "      100 * correct / total))\n",
        "\n",
        "#creating an instance of the model\n",
        "model = Net()\n",
        "\n",
        "#cross entropy loss for multi-class classification\n",
        "criterion = nn.CrossEntropyLoss()\n",
        "\n",
        "#SGD optimizer with momentum\n",
        "optimizer = optim.SGD(model.parameters(), lr=0.05, momentum=0.9)\n",
        "\n",
        "#Number of training epochs\n",
        "num_epochs = 5\n",
        "\n",
        "#Training loop\n",
        "train_losses, train_acc = train(num_epochs, model, trainloader, criterion, optimizer)\n",
        "\n",
        "# Accuracy on test data after training\n",
        "test_model(model, testloader)"
      ]
    },
    {
      "cell_type": "markdown",
      "metadata": {
        "id": "RBQeCEB6REnH"
      },
      "source": [
        "## Questions\n",
        "1) List some reasons why we should prefer CNN over ANN for image classification?\n",
        "\n",
        "2) Try improving the CNN performance further by tuning the hyperparameters(epochs, optimizer, LR etc). Report the improved test accuracy.\n",
        "\n",
        "3) What happens if you reduce the number of convolution layers to only 1?\n",
        "\n",
        "4) Why didn't we use the Softmax activation in the last layer of CNN?\n",
        "\n",
        "5) How does pooling help in this context ?"
      ]
    },
    {
      "cell_type": "markdown",
      "metadata": {
        "id": "4fS6YwXs4yk_"
      },
      "source": [
        "1.List some reasons why we should prefer CNN over ANN for image classification?\n",
        "\n",
        "Answer:\n",
        "\n",
        "CNN vs ANN for Image Classification\n",
        "Here are some reasons why CNNs are preferred over ANNs for image classification:\n",
        "\n",
        "1. *Spatial Hierarchy*: CNNs can capture spatial hierarchies of features in images, which is essential for image classification.\n",
        "2. *Local Connectivity*: CNNs use local connectivity, which allows them to focus on specific regions of the image.\n",
        "3. *Shared Weights*: CNNs use shared weights, which reduces the number of parameters and improves generalization.\n",
        "4. *Translation Equivariance*: CNNs are translation equivariant, meaning that they can recognize features regardless of their position in the image.\n",
        "5. *Robustness to Variations*: CNNs can be robust to variations in image scale, rotation, and lighting condition\n",
        "\n",
        "Conclusion\n",
        "CNNs are well-suited for image classification tasks due to their ability to capture spatial hierarchies, local connectivity, and shared weights. These properties make CNNs more effective and efficient than ANNs for image classification tasks."
      ]
    },
    {
      "cell_type": "markdown",
      "metadata": {
        "id": "TkNpS3jF5jnb"
      },
      "source": [
        "2.Try improving the CNN performance further by tuning the hyperparameters(epochs, optimizer, LR etc).\n",
        "\n",
        "\n",
        "Answer:\n",
        "Hyperparameter Tuning\n",
        "To improve the CNN performance, we can try tuning the hyperparameters:\n",
        "\n",
        "Hyperparameters to Tune\n",
        "1. *Epochs*: Increase or decrease the number of epochs to find the optimal value.\n",
        "2. *Optimizer*: Try different optimizers such as Adam, RMSprop, or SGD.\n",
        "3. *Learning Rate (LR)*: Adjust the learning rate to find the optimal value.\n",
        "4. *Batch Size*: Experiment with different batch sizes.\n",
        "\n",
        "Conclusion\n",
        "Hyperparameter tuning can significantly improve the performance of the CNN model. By experimenting with different hyperparameters, you can find the optimal combination that results in the best accuracy."
      ]
    },
    {
      "cell_type": "markdown",
      "metadata": {
        "id": "IfwhKKfR7Zgk"
      },
      "source": [
        "3.What happens if you reduce the number of convolution layers to only 1?\n",
        "\n",
        "Answer:\n",
        "\n",
        "Reducing Convolution Layers\n",
        "If you reduce the number of convolution layers to only 1:\n",
        "\n",
        "Effects\n",
        "1. *Reduced Feature Extraction*: With only one convolution layer, the model may not be able to extract complex features from the input data.\n",
        "2. *Decreased Representation Power*: A single convolution layer may not be sufficient to capture the underlying patterns and relationships in the data.\n",
        "3. *Potential Underfitting*: The model may underfit the training data, resulting in poor performance on both the training and testing sets.\n",
        "\n",
        "Possible Outcomes\n",
        "1. *Lower Accuracy*: The model's accuracy may decrease due to the reduced ability to extract features and represent complex relationships.\n",
        "2. *Increased Bias*: The model may exhibit increased bias towards certain features or patterns, leading to poor generalization.\n",
        "\n",
        "When to Use a Single Convolution Layer\n",
        "1. *Simple Problems*: A single convolution layer may be sufficient for simple image classification problems with limited complexity.\n",
        "2. *Limited Data*: When working with limited data, a single convolution layer may be a good starting point to avoid overfitting.\n",
        "\n",
        "Conclusion\n",
        "Reducing the number of convolution layers to only 1 can negatively impact the model's performance, especially for complex image classification tasks. However, it may be suitable for simple problems or when working with limited data."
      ]
    },
    {
      "cell_type": "markdown",
      "metadata": {
        "id": "W-YfdLjy75F9"
      },
      "source": [
        "4.Why didn't we use the Softmax activation in the last layer of CNN?\n",
        "\n",
        "\n",
        "\n",
        "Answer:\n",
        "\n",
        "Softmax Activation\n",
        "In the CNN model, we used the Softmax activation function implicitly through the `sparse_categorical_crossentropy` loss function.\n",
        "\n",
        "Why Not Explicit Softmax\n",
        "When using `sparse_categorical_crossentropy` or `categorical_crossentropy` loss functions in Keras, you don't need to explicitly define a Softmax activation function in the last layer.\n",
        "\n",
        "How it Works\n",
        "The Softmax activation function is applied internally by the loss function, which expects logits (unnormalized scores) as input.\n",
        "\n",
        "Explicit Softmax\n",
        "If you want to explicitly define a Softmax activation function, you can use it in the last layer:\n",
        "\n",
        "```\n",
        "model.add(Dense(num_classes, activation='softmax'))\n",
        "```\n",
        "\n",
        "In this case, you would use `categorical_crossentropy` loss function.\n",
        "\n",
        "Conclusion\n",
        "The choice between explicit and implicit Softmax activation depends on the loss function used. Both approaches can work, but it's essential to understand how the loss function interacts with the activation function."
      ]
    },
    {
      "cell_type": "markdown",
      "metadata": {
        "id": "ha3zSxqm9D2Q"
      },
      "source": [
        "5.Robustness to Variations: CNNs can be robust to variations in image scale, rotation, and lighting condition\n",
        "\n",
        "Answer:\n",
        "\n",
        "Robustness to Variations\n",
        "CNNs can be robust to variations in:\n",
        "\n",
        "1. *Image Scale*: CNNs can learn to recognize objects at different scales due to the use of convolutional and pooling layers.\n",
        "2. *Rotation*: While traditional CNNs are not inherently rotation-invariant, techniques like data augmentation and rotation-invariant layers can improve robustness to rotation.\n",
        "3. *Lighting Conditions*: CNNs can learn to recognize objects under different lighting conditions due to the use of convolutional layers that extract features from local regions.\n",
        "\n",
        "Achieving Robustness\n",
        "To achieve robustness to variations, CNNs can utilize:\n",
        "\n",
        "1. *Data Augmentation*: Applying random transformations (e.g., rotation, scaling, flipping) to training images.\n",
        "2. *Regularization Techniques*: Using techniques like dropout and weight decay to prevent overfitting.\n",
        "3. *Robust Loss Functions*: Using loss functions that are robust to outliers and variations.\n",
        "\n",
        "Limitations\n",
        "While CNNs can be robust to some variations, they may still struggle with:\n",
        "\n",
        "1. *Severe Occlusions*: Objects that are heavily occluded may be difficult for CNNs to recognize.\n",
        "2. *Large Viewpoint Changes*: Objects viewed from drastically different angles may require specialized architectures or training.\n",
        "\n",
        "Conclusion\n",
        "CNNs can be robust to various image variations, but achieving robustness often requires careful design, training, and regularization techniques."
      ]
    }
  ],
  "metadata": {
    "colab": {
      "provenance": [],
      "include_colab_link": true
    },
    "kernelspec": {
      "display_name": "Python 3",
      "name": "python3"
    },
    "language_info": {
      "name": "python"
    }
  },
  "nbformat": 4,
  "nbformat_minor": 0
}